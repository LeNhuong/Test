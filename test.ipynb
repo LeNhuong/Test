{
 "cells": [
  {
   "cell_type": "code",
   "execution_count": 1,
   "metadata": {},
   "outputs": [
    {
     "name": "stdout",
     "output_type": "stream",
     "text": [
      "HelloWorl!\n"
     ]
    }
   ],
   "source": [
    "print(\"HelloWorl!\")"
   ]
  },
  {
   "attachments": {},
   "cell_type": "markdown",
   "metadata": {},
   "source": [
    "Lattice–Based Cryptosystem\n",
    "Collection of points in a space of n–dimensional vector is named as lat\u0002tice. Based on the lattice, this cryptosystem provides its security in an epi\u0002sodic arrangement. This lattice–based cryptosystem supposed to be relying \n",
    "on rigidity of lattice problems similar to an NP–hard problem, which is \n",
    "Shortest Vector Problem whose objective is discovering shortest vector \n",
    "point (only values > 0) within the n–dimensional lattice space. Some other \n",
    "lattice troubles like Shortest Independent Vector or nearby Vector Problem \n",
    "cannot be solved by quantum computing technique these days [3]. For fast \n",
    "black chain transactions, this lattice–based cryptosystem are used, because \n",
    "they are used frequently since they are easy for computation, fast and work \n",
    "in efficient way. \n",
    "Although it is implemented in other post–quantum cryptosystems, it \n",
    "engages with huge ciphertext overheads because lattice–based cryptosys\u0002tem needs to save and make utilize of large key sets. Some lattice–based \n",
    "cryptosystems like NewHope [5] and NTRU [4] systems frequently need \n",
    "to maintain and manage the key sets in the classification of some thousand \n",
    "like bits. As of now, all discussed lattice–based cryptosystems have base of \n",
    "Learning With Errors (LWE), polynomial algebra [4, 6, 7] problem with its \n",
    "alternative Lindner Perikert LWE (LP–LWE) or Ring LWE (RLWE) [8, 9].\n",
    "A lattice–based cryptosystem [1] provides 128 bits to 368 bits of tradi\u0002tional securities and 84 bits to 300 bits of quantum scheme securities, so \n",
    "depending on algorithm the security level differs. While comparing all the \n",
    "cryptosystems, Table 6.3 shows rough calculation of security level is 100 \n",
    "bits, and it shows that Round5 KEM IoT [1] has the very less security key \n",
    "and fast execution by way of comparing to all the cryptosystems. \n"
   ]
  }
 ],
 "metadata": {
  "kernelspec": {
   "display_name": "Python 3",
   "language": "python",
   "name": "python3"
  },
  "language_info": {
   "codemirror_mode": {
    "name": "ipython",
    "version": 3
   },
   "file_extension": ".py",
   "mimetype": "text/x-python",
   "name": "python",
   "nbconvert_exporter": "python",
   "pygments_lexer": "ipython3",
   "version": "3.11.3"
  },
  "orig_nbformat": 4
 },
 "nbformat": 4,
 "nbformat_minor": 2
}
